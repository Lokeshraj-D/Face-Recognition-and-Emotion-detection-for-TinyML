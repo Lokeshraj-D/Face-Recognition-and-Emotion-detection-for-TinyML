{
 "cells": [
  {
   "cell_type": "code",
   "execution_count": null,
   "id": "26533ea1-9f5e-41ea-b581-b1d95af85ff4",
   "metadata": {},
   "outputs": [],
   "source": [
    "import cv2\n",
    "import os\n",
    "\n",
    "cam = cv2.VideoCapture(0)\n",
    "\n",
    "n1_test = os.path.join('data', '4')\n",
    "test_count = 0\n",
    "\n",
    "while cam.isOpened():\n",
    "    ret, frame = cam.read()\n",
    "    #frame = frame[120:120+224, 200:200+224, :]\n",
    "\n",
    "    if cv2.waitKey(1) & 0XFF == ord('c'):\n",
    "        imgname = os.path.join(n1_test, 'image_{}.jpg'.format(test_count))\n",
    "        test_count+=1\n",
    "        cv2.imwrite(imgname, frame)\n",
    "\n",
    "    cv2.imshow(\"Image collection\", frame)\n",
    "    \n",
    "    if(test_count>150):\n",
    "        break\n",
    "\n",
    "cam.release()\n",
    "cv2.destroyAllWindows()"
   ]
  },
  {
   "cell_type": "code",
   "execution_count": 3,
   "id": "4e5ddd3d-a22a-4345-94f6-bdc77ce01957",
   "metadata": {},
   "outputs": [],
   "source": [
    "cam.release()"
   ]
  },
  {
   "cell_type": "code",
   "execution_count": null,
   "id": "df0db1a5-2b45-4f22-bd6f-9ca32342af55",
   "metadata": {},
   "outputs": [],
   "source": []
  }
 ],
 "metadata": {
  "kernelspec": {
   "display_name": "Python 3 (ipykernel)",
   "language": "python",
   "name": "python3"
  },
  "language_info": {
   "codemirror_mode": {
    "name": "ipython",
    "version": 3
   },
   "file_extension": ".py",
   "mimetype": "text/x-python",
   "name": "python",
   "nbconvert_exporter": "python",
   "pygments_lexer": "ipython3",
   "version": "3.10.15"
  }
 },
 "nbformat": 4,
 "nbformat_minor": 5
}
